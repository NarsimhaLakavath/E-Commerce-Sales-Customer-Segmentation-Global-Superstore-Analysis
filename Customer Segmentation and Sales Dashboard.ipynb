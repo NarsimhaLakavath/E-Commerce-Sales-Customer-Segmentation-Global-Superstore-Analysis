{
 "cells": [
  {
   "cell_type": "markdown",
   "id": "4ebf0794",
   "metadata": {},
   "source": [
    "## Importing Pre-requisite Packages and Dataset"
   ]
  },
  {
   "cell_type": "code",
   "execution_count": null,
   "id": "a88de6ed",
   "metadata": {},
   "outputs": [
    {
     "ename": "",
     "evalue": "",
     "output_type": "error",
     "traceback": [
      "\u001b[1;31mRunning cells with 'venv (Python 3.10.11)' requires the ipykernel package.\n",
      "\u001b[1;31mInstall 'ipykernel' into the Python environment. \n",
      "\u001b[1;31mCommand: '\"d:/HARSHITHA_PROJECTS/DATA ANALYST/Global-Superstore-Sales-Customer-Clustering-Dashboard-/venv/Scripts/python.exe\" -m pip install ipykernel -U --force-reinstall'"
     ]
    }
   ],
   "source": [
    "import pandas as pd\n",
    "import numpy as np\n",
    "import seaborn as sns\n",
    "import matplotlib.pyplot as plt\n",
    "import warnings\n",
    "warnings.filterwarnings('ignore')\n",
    "import re"
   ]
  },
  {
   "cell_type": "code",
   "execution_count": null,
   "id": "a7fd5d94",
   "metadata": {},
   "outputs": [],
   "source": [
    "data = pd.read_csv(\"Global_Superstore2.csv\")"
   ]
  },
  {
   "cell_type": "markdown",
   "id": "b499507d",
   "metadata": {},
   "source": [
    "## Data Understanding"
   ]
  },
  {
   "cell_type": "code",
   "execution_count": null,
   "id": "24f09990",
   "metadata": {},
   "outputs": [],
   "source": [
    "data.head()"
   ]
  },
  {
   "cell_type": "code",
   "execution_count": null,
   "id": "aea33e44",
   "metadata": {},
   "outputs": [],
   "source": [
    "data.shape"
   ]
  },
  {
   "cell_type": "code",
   "execution_count": null,
   "id": "3d03de1c",
   "metadata": {},
   "outputs": [],
   "source": [
    "data.info()"
   ]
  },
  {
   "cell_type": "code",
   "execution_count": null,
   "id": "80b0ebe5",
   "metadata": {},
   "outputs": [],
   "source": [
    "data.isnull().sum()"
   ]
  },
  {
   "cell_type": "code",
   "execution_count": null,
   "id": "73b9386f",
   "metadata": {},
   "outputs": [],
   "source": [
    "data.nunique()"
   ]
  },
  {
   "cell_type": "code",
   "execution_count": null,
   "id": "f28761f9",
   "metadata": {},
   "outputs": [],
   "source": [
    "data.select_dtypes(include=np.number).head()"
   ]
  },
  {
   "cell_type": "code",
   "execution_count": null,
   "id": "ae8b90c0",
   "metadata": {},
   "outputs": [],
   "source": [
    "data.select_dtypes(include=np.object).head()"
   ]
  },
  {
   "cell_type": "markdown",
   "id": "a0f4d813",
   "metadata": {},
   "source": [
    "#### Observations -\n",
    "\n",
    "- The data has approx 51000 records and 24 variables.\n",
    "- Within the variables, 7 have been identified as numerical variables.\n",
    "- Remaining 17 have been identified as categorical\n",
    "- Postal code is the only columns consisting of missing values.\n",
    "- Out of the 7, row number and postal code should be identified as categorical as they cannot be used for any aggregations or arithematic operations.\n",
    "- Also, order date and ship date have been identified as categorical fields whereas they should be datetime fields."
   ]
  },
  {
   "cell_type": "markdown",
   "id": "f0095b2c",
   "metadata": {},
   "source": [
    "## Data Cleaning and Preparation"
   ]
  },
  {
   "cell_type": "code",
   "execution_count": null,
   "id": "663a05bd",
   "metadata": {},
   "outputs": [],
   "source": [
    "data.columns"
   ]
  },
  {
   "cell_type": "code",
   "execution_count": null,
   "id": "49da0c81",
   "metadata": {},
   "outputs": [],
   "source": [
    "## Removing unwanted spaces and dashes in column names for easier indexing\n",
    "data.columns = [i.replace(\" \",\"\") for i in data.columns]\n",
    "data.columns = [i.replace(\"-\",\"\") for i in data.columns]"
   ]
  },
  {
   "cell_type": "code",
   "execution_count": null,
   "id": "afdd528b",
   "metadata": {},
   "outputs": [],
   "source": [
    "data.columns"
   ]
  },
  {
   "cell_type": "code",
   "execution_count": null,
   "id": "4622f0b2",
   "metadata": {},
   "outputs": [],
   "source": [
    "## Converting row id to categorical / object datatype\n",
    "data.RowID = data.RowID.astype(\"object\")"
   ]
  },
  {
   "cell_type": "code",
   "execution_count": null,
   "id": "bc7898c6",
   "metadata": {},
   "outputs": [],
   "source": [
    "## Converting postal code to categorical / object datatype\n",
    "data.PostalCode = data.PostalCode.astype(\"object\")"
   ]
  },
  {
   "cell_type": "code",
   "execution_count": null,
   "id": "30bbd010",
   "metadata": {},
   "outputs": [],
   "source": [
    "## Ship date and order date converted to datetime\n",
    "data.ShipDate = pd.to_datetime(data.ShipDate)\n",
    "data.OrderDate = pd.to_datetime(data.OrderDate)"
   ]
  },
  {
   "cell_type": "code",
   "execution_count": null,
   "id": "0632cbd0",
   "metadata": {},
   "outputs": [],
   "source": [
    "data.select_dtypes(include=np.number).head()"
   ]
  },
  {
   "cell_type": "code",
   "execution_count": null,
   "id": "76b6c1f6",
   "metadata": {},
   "outputs": [],
   "source": [
    "data.select_dtypes(include=np.object).head()"
   ]
  },
  {
   "cell_type": "code",
   "execution_count": null,
   "id": "b370918a",
   "metadata": {},
   "outputs": [],
   "source": [
    "## Dropping row id as it is not of any use.\n",
    "data.drop(\"RowID\",axis=1,inplace=True)"
   ]
  },
  {
   "cell_type": "code",
   "execution_count": null,
   "id": "d826ea20",
   "metadata": {},
   "outputs": [],
   "source": [
    "## Checking for lead spaces\n",
    "for col in data.select_dtypes(include=np.object).drop(\"PostalCode\",axis=1):\n",
    "    for i in data[col]:\n",
    "        if i.strip() != i:\n",
    "            print(col)\n",
    "            break"
   ]
  },
  {
   "cell_type": "code",
   "execution_count": null,
   "id": "7c3d528b",
   "metadata": {},
   "outputs": [],
   "source": [
    "data.ProductName = data.ProductName.apply(lambda x:x.strip())"
   ]
  },
  {
   "cell_type": "code",
   "execution_count": null,
   "id": "d1d7b4ac",
   "metadata": {},
   "outputs": [],
   "source": [
    "## Getting rid of unneccessary characters causing problems in encoding when needed to export to mysql.\n",
    "data.ProductName = data.ProductName.apply(lambda x:\"\".join(re.findall(r\"[A-Za-z0-9- ]+\",x)))"
   ]
  },
  {
   "cell_type": "code",
   "execution_count": null,
   "id": "b61bb28d",
   "metadata": {},
   "outputs": [],
   "source": [
    "## Getting rid of unneccessary characters causing problems in encoding when needed to export to mysql.\n",
    "data.CustomerName = data.CustomerName.apply(lambda x:\"\".join(re.findall(r\"[A-Za-z0-9- ]+\",x)))"
   ]
  },
  {
   "cell_type": "code",
   "execution_count": null,
   "id": "e1d16468",
   "metadata": {},
   "outputs": [],
   "source": [
    "## Getting rid of Postal code as Place information given\n",
    "data.drop(\"PostalCode\",axis=1,inplace=True)"
   ]
  },
  {
   "cell_type": "code",
   "execution_count": null,
   "id": "6755eecc",
   "metadata": {},
   "outputs": [],
   "source": [
    "## Getting rid of state and city as we will be using region and country for geographical charts or analysis\n",
    "data.drop([\"State\",\"City\"],axis=1,inplace=True)"
   ]
  },
  {
   "cell_type": "code",
   "execution_count": null,
   "id": "f98b71bd",
   "metadata": {},
   "outputs": [],
   "source": [
    "## Finding time elapsed between date of order and date when order is finally shipped to customer.\n",
    "data[\"DaysTillShipment\"] = data.ShipDate - data.OrderDate\n",
    "data.head()"
   ]
  },
  {
   "cell_type": "code",
   "execution_count": null,
   "id": "0fd854b6",
   "metadata": {},
   "outputs": [],
   "source": [
    "data.DaysTillShipment = data.DaysTillShipment.apply(lambda x:x.days)\n",
    "data.head()"
   ]
  },
  {
   "cell_type": "code",
   "execution_count": null,
   "id": "92975bda",
   "metadata": {},
   "outputs": [],
   "source": [
    "## Creating a new feature to find out whether order was placed on a weekday or weekend.\n",
    "data[\"OrderDay\"] = data.OrderDate.apply(lambda x:\"Weekend Order\" if x.weekday() >= 5 else \"Weekday Order\")\n",
    "data.head()"
   ]
  },
  {
   "cell_type": "code",
   "execution_count": null,
   "id": "a1b1ef51",
   "metadata": {},
   "outputs": [],
   "source": [
    "data.Region.unique()"
   ]
  },
  {
   "cell_type": "code",
   "execution_count": null,
   "id": "276c8198",
   "metadata": {},
   "outputs": [],
   "source": [
    "data.Market.unique()"
   ]
  },
  {
   "cell_type": "markdown",
   "id": "8c8c0aeb",
   "metadata": {},
   "source": [
    "#### Observation - \n",
    "- Within the region variable, we have more than 10 unique levels, which could make it slightly difficult for analysis and visualization. \n",
    "- Also there could be several overlapping between central and EMEA regions.\n",
    "- Within market, we have categories, which could be overlapping logically (ex - EU & EMEA) and many don't make sense (ex - different categories for US and Canada though there are a part of north america).\n",
    "- Since we wish to focus on region, we will create new categories for regions and replace existing ones.\n",
    "- We will use the regions assigned to countries in the world indicators dataset.\n",
    "- We will also use the dataset to replace the country name in the global superstores dataset with the names in the world indicators dataset as the word indicators dataset country name are known to be accepted in tableau geograhical mappings.\n",
    "- We will drop market as we don't intend to use it and it is similar to regions."
   ]
  },
  {
   "cell_type": "code",
   "execution_count": null,
   "id": "39f31929",
   "metadata": {},
   "outputs": [],
   "source": [
    "data.drop(\"Market\",axis=1,inplace=True)"
   ]
  },
  {
   "cell_type": "markdown",
   "id": "fc7015aa",
   "metadata": {},
   "source": [
    "## Creating New Region codes using World Indicators Dataset"
   ]
  },
  {
   "cell_type": "code",
   "execution_count": null,
   "id": "ef581c03",
   "metadata": {},
   "outputs": [],
   "source": [
    "wd = pd.read_csv(\"WDICountry.csv\")"
   ]
  },
  {
   "cell_type": "code",
   "execution_count": null,
   "id": "dffe0a92",
   "metadata": {},
   "outputs": [],
   "source": [
    "wd = wd[['Country Code', 'Short Name','Long Name','Region']]"
   ]
  },
  {
   "cell_type": "code",
   "execution_count": null,
   "id": "1e2b75ff",
   "metadata": {},
   "outputs": [],
   "source": [
    "wd.head()"
   ]
  },
  {
   "cell_type": "code",
   "execution_count": null,
   "id": "237265ec",
   "metadata": {},
   "outputs": [],
   "source": [
    "wd[\"Short Name\"].sort_values().tail(30)"
   ]
  },
  {
   "cell_type": "code",
   "execution_count": null,
   "id": "58fa200b",
   "metadata": {},
   "outputs": [],
   "source": [
    "data_countries = pd.DataFrame({\"Country\":data[\"Country\"].unique()})"
   ]
  },
  {
   "cell_type": "code",
   "execution_count": null,
   "id": "5b92df93",
   "metadata": {},
   "outputs": [],
   "source": [
    "data_countries = data_countries.merge(wd,how=\"left\",left_on=\"Country\",right_on=\"Short Name\")"
   ]
  },
  {
   "cell_type": "code",
   "execution_count": null,
   "id": "1669c8ab",
   "metadata": {},
   "outputs": [],
   "source": [
    "data_countries[data_countries.isnull().any(axis=1)]"
   ]
  },
  {
   "cell_type": "markdown",
   "id": "76a582b0",
   "metadata": {},
   "source": [
    "#### Observation - \n",
    "\n",
    "- We have successfully replaced the region for all but 14 countries. \n",
    "- Since their names are not the same as given in world indicators dataset, they are not finding a match.\n",
    "- Hence, we will use the country code or short name and manually search and fill the region information"
   ]
  },
  {
   "cell_type": "code",
   "execution_count": null,
   "id": "d6f6372c",
   "metadata": {},
   "outputs": [],
   "source": [
    "wd.head()"
   ]
  },
  {
   "cell_type": "code",
   "execution_count": null,
   "id": "d9a2a551",
   "metadata": {},
   "outputs": [],
   "source": [
    "try:\n",
    "    print(wd[wd[\"Country Code\"] == \"TWN\"])\n",
    "    data_countries.iloc[16,1:] = wd[wd[\"Country Code\"] == \"TWN\"]\n",
    "except ValueError:\n",
    "    print('Country info doesnt exist in World Indicators Dataset')"
   ]
  },
  {
   "cell_type": "code",
   "execution_count": null,
   "id": "837d4a59",
   "metadata": {},
   "outputs": [],
   "source": [
    "data_countries.iloc[16,1:] = [\"TWN\",\"Taiwan\",np.nan,\"East Asia & Pacific\"]"
   ]
  },
  {
   "cell_type": "code",
   "execution_count": null,
   "id": "8265e950",
   "metadata": {},
   "outputs": [],
   "source": [
    "print(wd[wd[\"Short Name\"] == \"Myanmar\"])\n",
    "data_countries.iloc[73,1:] = wd[wd[\"Short Name\"] == \"Myanmar\"]"
   ]
  },
  {
   "cell_type": "code",
   "execution_count": null,
   "id": "f6f4d3d7",
   "metadata": {},
   "outputs": [],
   "source": [
    "print(wd[wd[\"Short Name\"] == \"Congo\"])\n",
    "data_countries.iloc[[19,76],1:] = wd[wd[\"Short Name\"] == \"Congo\"]"
   ]
  },
  {
   "cell_type": "code",
   "execution_count": null,
   "id": "96ebb2d1",
   "metadata": {},
   "outputs": [],
   "source": [
    "try:\n",
    "    print(wd[wd[\"Country Code\"] == \"COD\"])\n",
    "    data_countries.iloc[19,1:] = wd[wd[\"Country Code\"] == \"COD\"]\n",
    "except ValueError:\n",
    "    print('Country info doesnt exist in World Indicators Dataset')"
   ]
  },
  {
   "cell_type": "code",
   "execution_count": null,
   "id": "4031769a",
   "metadata": {},
   "outputs": [],
   "source": [
    "try:\n",
    "    print(wd[wd[\"Country Code\"] == \"COG\"])\n",
    "    data_countries.iloc[76,1:] = wd[wd[\"Country Code\"] == \"COG\"]\n",
    "except ValueError:\n",
    "    print('Country info doesnt exist in World Indicators Dataset')"
   ]
  },
  {
   "cell_type": "code",
   "execution_count": null,
   "id": "41db4f33",
   "metadata": {},
   "outputs": [],
   "source": [
    "try:\n",
    "    print(wd[wd[\"Country Code\"] == \"KOR\"])\n",
    "    data_countries.iloc[79,1:] = wd[wd[\"Country Code\"] == \"KOR\"]\n",
    "\n",
    "except ValueError:\n",
    "    print('Country info doesnt exist in World Indicators Dataset')"
   ]
  },
  {
   "cell_type": "code",
   "execution_count": null,
   "id": "6763507f",
   "metadata": {},
   "outputs": [],
   "source": [
    "try:\n",
    "    print(wd[wd[\"Country Code\"] == \"CIV\"])\n",
    "    data_countries.iloc[82,1:] = wd[wd[\"Country Code\"] == \"CIV\"]\n",
    "except ValueError:\n",
    "    print('Country info doesnt exist in World Indicators Dataset')"
   ]
  },
  {
   "cell_type": "code",
   "execution_count": null,
   "id": "eb94ad9a",
   "metadata": {},
   "outputs": [],
   "source": [
    "try:\n",
    "    print(wd[wd[\"Country Code\"] == \"MTQ\"])\n",
    "    data_countries.iloc[90,1:] = wd[wd[\"Country Code\"] == \"MTQ\"]\n",
    "except ValueError:\n",
    "    print('Country info doesnt exist in World Indicators Dataset')"
   ]
  },
  {
   "cell_type": "code",
   "execution_count": null,
   "id": "e8239c51",
   "metadata": {},
   "outputs": [],
   "source": [
    "data_countries.iloc[90,1:] = [\"MTQ\",\"Martinique\",np.nan,\"Latin America & Caribbean\"]"
   ]
  },
  {
   "cell_type": "code",
   "execution_count": null,
   "id": "282a7671",
   "metadata": {},
   "outputs": [],
   "source": [
    "try:\n",
    "    print(wd[wd[\"Country Code\"] == \"SYR\"])\n",
    "    data_countries.iloc[91,1:] = wd[wd[\"Country Code\"] == \"SYR\"]\n",
    "except ValueError:\n",
    "    print('Country info doesnt exist in World Indicators Dataset')"
   ]
  },
  {
   "cell_type": "code",
   "execution_count": null,
   "id": "e79b7b02",
   "metadata": {},
   "outputs": [],
   "source": [
    "print(wd[wd[\"Country Code\"] == \"HKG\"])\n",
    "data_countries.iloc[121,1:] = wd[wd[\"Country Code\"] == \"HKG\"]\n",
    "\n",
    "try:\n",
    "    print(wd[wd[\"Country Code\"] == \"HKG\"])\n",
    "    data_countries.iloc[121,1:] = wd[wd[\"Country Code\"] == \"HKG\"]\n",
    "except ValueError:\n",
    "    print('Country info doesnt exist in World Indicators Dataset')"
   ]
  },
  {
   "cell_type": "code",
   "execution_count": null,
   "id": "dd5501f6",
   "metadata": {},
   "outputs": [],
   "source": [
    "try:\n",
    "    print(wd[wd[\"Country Code\"] == \"GLP\"])\n",
    "    data_countries.iloc[123,1:] = wd[wd[\"Country Code\"] == \"GLP\"]\n",
    "except ValueError:\n",
    "    print('Country info doesnt exist in World Indicators Dataset')"
   ]
  },
  {
   "cell_type": "code",
   "execution_count": null,
   "id": "8b7524ba",
   "metadata": {},
   "outputs": [],
   "source": [
    "data_countries.iloc[123,1:] = [\"GLP\",\"Guadeloupe\",np.nan,\"Latin America & Caribbean\"]"
   ]
  },
  {
   "cell_type": "code",
   "execution_count": null,
   "id": "1b77a70d",
   "metadata": {},
   "outputs": [],
   "source": [
    "try:\n",
    "    print(wd[wd[\"Country Code\"] == \"KGZ\"])\n",
    "    data_countries.iloc[124,1:] = wd[wd[\"Country Code\"] == \"KGZ\"]\n",
    "except ValueError:\n",
    "    print('Country info doesnt exist in World Indicators Dataset')"
   ]
  },
  {
   "cell_type": "code",
   "execution_count": null,
   "id": "fed6e37b",
   "metadata": {},
   "outputs": [],
   "source": [
    "try:\n",
    "    print(wd[wd[\"Country Code\"] == \"SWZ\"])\n",
    "    data_countries.iloc[134,1:] = wd[wd[\"Country Code\"] == \"SWZ\"]\n",
    "except ValueError:\n",
    "    print('Country info doesnt exist in World Indicators Dataset')"
   ]
  },
  {
   "cell_type": "code",
   "execution_count": null,
   "id": "8e27d6cc",
   "metadata": {},
   "outputs": [],
   "source": [
    "print(wd[wd[\"Country Code\"] == \"SVK\"])\n",
    "data_countries.iloc[139,1:] = wd[wd[\"Country Code\"] == \"SVK\"]\n",
    "\n",
    "try:\n",
    "    print(wd[wd[\"Country Code\"] == \"SVK\"])\n",
    "    data_countries.iloc[139,1:] = wd[wd[\"Country Code\"] == \"SVK\"]\n",
    "except ValueError:\n",
    "    print('Country info doesnt exist in World Indicators Dataset')"
   ]
  },
  {
   "cell_type": "code",
   "execution_count": null,
   "id": "be3e47c4",
   "metadata": {},
   "outputs": [],
   "source": [
    "try:\n",
    "    print(wd[wd[\"Country Code\"] == \"MKD\"])\n",
    "    data_countries.iloc[143,1:] = wd[wd[\"Country Code\"] == \"MKD\"]\n",
    "except ValueError:\n",
    "    print('Country info doesnt exist in World Indicators Dataset')"
   ]
  },
  {
   "cell_type": "code",
   "execution_count": null,
   "id": "81202e08",
   "metadata": {},
   "outputs": [],
   "source": [
    "data_countries[data_countries[\"Region\"].isnull()]"
   ]
  },
  {
   "cell_type": "code",
   "execution_count": null,
   "id": "eb481a7d",
   "metadata": {},
   "outputs": [],
   "source": [
    "## Replacing the Region with new regions from World Indicators dataset\n",
    "\n",
    "new_regions = data_countries[[\"Country\",\"Region\",\"Short Name\"]]\n",
    "\n",
    "new_regions.columns = [\"Country\",\"NewRegion\",\"CountryName\"]\n",
    "\n",
    "data = data.merge(new_regions,left_on=\"Country\",right_on=\"Country\")\n",
    "\n",
    "data.drop([\"Region\",\"Country\"],axis=1,inplace=True)"
   ]
  },
  {
   "cell_type": "code",
   "execution_count": null,
   "id": "561489b4",
   "metadata": {},
   "outputs": [],
   "source": [
    "data.head()"
   ]
  },
  {
   "cell_type": "code",
   "execution_count": null,
   "id": "03a9ca80",
   "metadata": {},
   "outputs": [],
   "source": [
    "data.NewRegion.value_counts()"
   ]
  },
  {
   "cell_type": "code",
   "execution_count": null,
   "id": "a3f5db14",
   "metadata": {},
   "outputs": [],
   "source": [
    "data[\"Region\"] = data.NewRegion\n",
    "\n",
    "data.drop(\"NewRegion\",axis=1,inplace=True)"
   ]
  },
  {
   "cell_type": "code",
   "execution_count": null,
   "id": "2a70808f",
   "metadata": {},
   "outputs": [],
   "source": [
    "data[\"Country\"] = data.CountryName\n",
    "\n",
    "data.drop(\"CountryName\",axis=1,inplace=True)"
   ]
  },
  {
   "cell_type": "markdown",
   "id": "f4383797",
   "metadata": {},
   "source": [
    "## Transforming dataset for RFM Clustering"
   ]
  },
  {
   "cell_type": "markdown",
   "id": "010d524d",
   "metadata": {},
   "source": [
    "#### NOTE - \n",
    "\n",
    "- For the purpose of clustering, we will transform the data using the RFM Framework - Recency, Frequency and Monetary value of customers.\n",
    "- Recency : The days between the last date of order and last date in the dataset\n",
    "- Frequency : The no. of orders placed.\n",
    "- Monetary : The total value of all orders placed."
   ]
  },
  {
   "cell_type": "code",
   "execution_count": null,
   "id": "34f349da",
   "metadata": {},
   "outputs": [],
   "source": [
    "data.head()"
   ]
  },
  {
   "cell_type": "code",
   "execution_count": null,
   "id": "ebf12b6f",
   "metadata": {},
   "outputs": [],
   "source": [
    "data.sort_values(by=\"CustomerName\").groupby([\"CustomerID\",\"CustomerName\"])[\"Segment\"].count().reset_index().sort_values(by=\"CustomerName\").head(50)"
   ]
  },
  {
   "cell_type": "markdown",
   "id": "ef2e873e",
   "metadata": {},
   "source": [
    "#### Important Note - \n",
    "\n",
    "- We observe that several customers with same name of 2 different customer ids.\n",
    "- This is happening due to the inconsistent nature of the customer ID format which removes or include a \"10\" before the 3 digit number.\n",
    "- Hence, in order to perform group by, we will use customer name."
   ]
  },
  {
   "cell_type": "code",
   "execution_count": null,
   "id": "af5e9383",
   "metadata": {},
   "outputs": [],
   "source": [
    "customers = pd.DataFrame({\"CustomerName\":data.CustomerName.unique()})\n",
    "customers.head()"
   ]
  },
  {
   "cell_type": "code",
   "execution_count": null,
   "id": "262cc5fd",
   "metadata": {},
   "outputs": [],
   "source": [
    "recency = data.groupby(\"CustomerName\").agg({\"OrderDate\":\"max\"}).apply(lambda x:(data.OrderDate.max() - x)).reset_index()\n",
    "recency.head()"
   ]
  },
  {
   "cell_type": "code",
   "execution_count": null,
   "id": "95337ff8",
   "metadata": {},
   "outputs": [],
   "source": [
    "customers = pd.merge(customers,recency,left_on=\"CustomerName\",right_on=\"CustomerName\")\n",
    "customers.head()"
   ]
  },
  {
   "cell_type": "code",
   "execution_count": null,
   "id": "33bc27a3",
   "metadata": {},
   "outputs": [],
   "source": [
    "frequency = data.drop_duplicates(\"OrderID\",keep=\"first\").groupby(\"CustomerName\").agg({\"OrderID\":\"count\"}).reset_index()"
   ]
  },
  {
   "cell_type": "code",
   "execution_count": null,
   "id": "cd562647",
   "metadata": {},
   "outputs": [],
   "source": [
    "customers = pd.merge(customers,frequency,left_on=\"CustomerName\",right_on=\"CustomerName\")\n",
    "customers.head()"
   ]
  },
  {
   "cell_type": "code",
   "execution_count": null,
   "id": "a9ac3d71",
   "metadata": {},
   "outputs": [],
   "source": [
    "monetary = data.groupby(\"CustomerName\").agg({\"Sales\":\"sum\"}).reset_index()\n",
    "monetary.head()"
   ]
  },
  {
   "cell_type": "code",
   "execution_count": null,
   "id": "c568d5e0",
   "metadata": {},
   "outputs": [],
   "source": [
    "customers = customers.merge(monetary,left_on=\"CustomerName\",right_on=\"CustomerName\")\n",
    "customers.head()"
   ]
  },
  {
   "cell_type": "code",
   "execution_count": null,
   "id": "c1362d6c",
   "metadata": {},
   "outputs": [],
   "source": [
    "customers.columns = [\"CustomerName\",\"Recency\",\"Frequency\",\"Monetary\"]"
   ]
  },
  {
   "cell_type": "code",
   "execution_count": null,
   "id": "7db5341c",
   "metadata": {},
   "outputs": [],
   "source": [
    "customers.head()"
   ]
  },
  {
   "cell_type": "code",
   "execution_count": null,
   "id": "fc9a67fa",
   "metadata": {},
   "outputs": [],
   "source": [
    "customers.info()"
   ]
  },
  {
   "cell_type": "code",
   "execution_count": null,
   "id": "f254a430",
   "metadata": {},
   "outputs": [],
   "source": [
    "customers.Recency = customers.Recency.apply(lambda x:x.days)"
   ]
  },
  {
   "cell_type": "code",
   "execution_count": null,
   "id": "b45e0bb2",
   "metadata": {},
   "outputs": [],
   "source": [
    "customers.head()"
   ]
  },
  {
   "cell_type": "code",
   "execution_count": null,
   "id": "ebb4bc4c",
   "metadata": {},
   "outputs": [],
   "source": [
    "customers.set_index(\"CustomerName\",inplace=True)\n",
    "customers.head()"
   ]
  },
  {
   "cell_type": "code",
   "execution_count": null,
   "id": "5f506cf8",
   "metadata": {},
   "outputs": [],
   "source": [
    "customers.skew()"
   ]
  },
  {
   "cell_type": "code",
   "execution_count": null,
   "id": "635a1d90",
   "metadata": {},
   "outputs": [],
   "source": [
    "plt.figure(figsize=(12,8))\n",
    "for index,i in enumerate(customers.columns):\n",
    "    plt.subplot(2,2,index+1)\n",
    "    plt.tight_layout(pad=2,h_pad=2)\n",
    "    plt.title(f\"Distribution of {i}\")\n",
    "    sns.distplot(customers[i])"
   ]
  },
  {
   "cell_type": "code",
   "execution_count": null,
   "id": "242b8fd7",
   "metadata": {},
   "outputs": [],
   "source": [
    "plt.figure(figsize=(12,8))\n",
    "for index,i in enumerate(customers.columns):\n",
    "    plt.subplot(2,2,index+1)\n",
    "    plt.tight_layout(pad=2,h_pad=2)\n",
    "    plt.title(f\"Distribution of {i}\")\n",
    "    sns.boxplot(customers[i])"
   ]
  },
  {
   "cell_type": "code",
   "execution_count": null,
   "id": "ca7510cf",
   "metadata": {},
   "outputs": [],
   "source": [
    "sns.pairplot(customers)"
   ]
  },
  {
   "cell_type": "markdown",
   "id": "51a7b06d",
   "metadata": {},
   "source": [
    "#### Observations - \n",
    "\n",
    "- On visualizing the recency, frequency and monetary variables, we observe a lot of highly positive / extreme outliers in the recency variables and some in the frequency variables.\n",
    "- On visualizing the relationship between the 3 variables using pairplots, we can see that the outliers are resulting in a very wide spread distributions and patterns which could possily affect the quality of the potential clusters.\n",
    "- Hence, we will first try remove the outliers"
   ]
  },
  {
   "cell_type": "code",
   "execution_count": null,
   "id": "98aac286",
   "metadata": {},
   "outputs": [],
   "source": [
    "X = customers.copy()\n",
    "X.head()"
   ]
  },
  {
   "cell_type": "code",
   "execution_count": null,
   "id": "f579fe5d",
   "metadata": {},
   "outputs": [],
   "source": [
    "## Removing outliers using power transformer.\n",
    "\n",
    "from sklearn.preprocessing import StandardScaler,PowerTransformer\n",
    "\n",
    "PT = PowerTransformer().fit(X)\n",
    "X = pd.DataFrame(PT.transform(X),columns=X.columns)\n",
    "X.head()"
   ]
  },
  {
   "cell_type": "code",
   "execution_count": null,
   "id": "e86c5ede",
   "metadata": {},
   "outputs": [],
   "source": [
    "plt.figure(figsize=(12,8))\n",
    "for index,i in enumerate(X.columns):\n",
    "    plt.subplot(2,2,index+1)\n",
    "    plt.tight_layout(pad=2,h_pad=2)\n",
    "    plt.title(f\"Distribution of {i}\")\n",
    "    sns.distplot(X[i])"
   ]
  },
  {
   "cell_type": "code",
   "execution_count": null,
   "id": "520d7437",
   "metadata": {},
   "outputs": [],
   "source": [
    "plt.figure(figsize=(12,8))\n",
    "for index,i in enumerate(X.columns):\n",
    "    plt.subplot(2,2,index+1)\n",
    "    plt.tight_layout(pad=2,h_pad=2)\n",
    "    plt.title(f\"Distribution of {i}\")\n",
    "    sns.boxplot(X[i])"
   ]
  },
  {
   "cell_type": "code",
   "execution_count": null,
   "id": "a50c7404",
   "metadata": {},
   "outputs": [],
   "source": [
    "sns.pairplot(X)"
   ]
  },
  {
   "cell_type": "code",
   "execution_count": null,
   "id": "3f14a072",
   "metadata": {},
   "outputs": [],
   "source": [
    "SC = StandardScaler().fit(X)\n",
    "X = pd.DataFrame(SC.transform(X),columns=X.columns)\n",
    "X.head()"
   ]
  },
  {
   "cell_type": "markdown",
   "id": "a147f6c0",
   "metadata": {},
   "source": [
    "## Creating Clusters"
   ]
  },
  {
   "cell_type": "code",
   "execution_count": null,
   "id": "532f937f",
   "metadata": {},
   "outputs": [],
   "source": [
    "from sklearn.preprocessing import StandardScaler\n",
    "from sklearn.cluster import KMeans, AgglomerativeClustering\n",
    "from sklearn.metrics import silhouette_score\n",
    "\n",
    "\n",
    "from scipy.cluster.hierarchy import cophenet,dendrogram,linkage\n",
    "from scipy.spatial.distance import pdist"
   ]
  },
  {
   "cell_type": "markdown",
   "id": "3b42b4b1",
   "metadata": {},
   "source": [
    "### Kmeans Clustering"
   ]
  },
  {
   "cell_type": "code",
   "execution_count": null,
   "id": "e63ec059",
   "metadata": {},
   "outputs": [],
   "source": [
    "Kmeans = KMeans(random_state=0).fit(X)\n",
    "print(\"Inertia of Kmeans with default 8 clusters:\",Kmeans.inertia_)"
   ]
  },
  {
   "cell_type": "code",
   "execution_count": null,
   "id": "6ea68852",
   "metadata": {},
   "outputs": [],
   "source": [
    "inertias = pd.DataFrame({\"N_clusters\":None,\"Inertia\":None},index=range(1))\n",
    "\n",
    "for i in range(2,11):\n",
    "    kmeans = KMeans(n_clusters=i,random_state=0).fit(X)\n",
    "    inertias = inertias.append({\"N_clusters\":i,\"Inertia\":kmeans.inertia_},ignore_index=True)\n",
    "    "
   ]
  },
  {
   "cell_type": "code",
   "execution_count": null,
   "id": "6c977a6d",
   "metadata": {},
   "outputs": [],
   "source": [
    "inertias.dropna(inplace=True)\n",
    "\n",
    "plt.figure(figsize = (8,4))\n",
    "plt.plot(inertias.N_clusters,inertias.Inertia,marker=\"o\")\n",
    "plt.xlabel(\"No. of Clusters\")\n",
    "plt.ylabel(\"Inertia\")\n",
    "plt.title(\"Elbow Plot\",size=15)\n",
    "plt.show()"
   ]
  },
  {
   "cell_type": "code",
   "execution_count": null,
   "id": "b2eb1dae",
   "metadata": {},
   "outputs": [],
   "source": [
    "inertias[\"Silhoutte_Score\"] = None\n",
    "scores = []\n",
    "\n",
    "for i in range(2,11):\n",
    "    kmeans = KMeans(n_clusters=i,random_state=0).fit(X)\n",
    "    score = silhouette_score(X,kmeans.labels_)\n",
    "    scores.append(score)\n",
    "    \n",
    "inertias[\"Silhoutte_Score\"] = scores"
   ]
  },
  {
   "cell_type": "code",
   "execution_count": null,
   "id": "3cdfff17",
   "metadata": {},
   "outputs": [],
   "source": [
    "inertias.sort_values(\"Silhoutte_Score\",ascending=False)"
   ]
  },
  {
   "cell_type": "code",
   "execution_count": null,
   "id": "e33f0de2",
   "metadata": {},
   "outputs": [],
   "source": [
    "from yellowbrick.cluster import SilhouetteVisualizer\n",
    "\n",
    "for i in range(2,11):\n",
    "    kmeans = KMeans(n_clusters=i,random_state=0)\n",
    "    visualizer = SilhouetteVisualizer(kmeans, colors='yellowbrick')\n",
    "    visualizer.fit(X)\n",
    "    visualizer.show()"
   ]
  },
  {
   "cell_type": "markdown",
   "id": "50a92ef5",
   "metadata": {},
   "source": [
    "### Agglomerative Clustering\n",
    "  "
   ]
  },
  {
   "cell_type": "code",
   "execution_count": null,
   "id": "6f198fa8",
   "metadata": {},
   "outputs": [],
   "source": [
    "Agg = AgglomerativeClustering().fit(X)\n",
    "score = silhouette_score(X,Agg.labels_)\n",
    "print(\"Silhoutte score for Agglomerative clustering with default cluster i.e 2:\",score)"
   ]
  },
  {
   "cell_type": "code",
   "execution_count": null,
   "id": "f91d68bc",
   "metadata": {},
   "outputs": [],
   "source": [
    "agg_scores = pd.DataFrame({\"N_clusters\":None,\"Silhoutte\":None},index=range(1))\n",
    "\n",
    "for i in range(2,11):\n",
    "    agg = AgglomerativeClustering(n_clusters=i).fit(X)\n",
    "    score = silhouette_score(X,agg.labels_)\n",
    "    agg_scores = agg_scores.append({\"N_clusters\":i,\"Silhoutte\":score},ignore_index=True)\n",
    "    "
   ]
  },
  {
   "cell_type": "code",
   "execution_count": null,
   "id": "aa734924",
   "metadata": {},
   "outputs": [],
   "source": [
    "agg_scores.dropna(inplace=True)\n",
    "agg_scores"
   ]
  },
  {
   "cell_type": "code",
   "execution_count": null,
   "id": "89c8624e",
   "metadata": {},
   "outputs": [],
   "source": [
    "for met in [\"single\",\"average\",\"ward\",\"complete\"]:\n",
    "    for dist in [\"euclidean\",\"minkowski\"]:\n",
    "        if met != \"ward\":\n",
    "            distance = linkage(X,method=met,metric=dist)\n",
    "            cop = cophenet(distance,pdist(X,metric=dist))\n",
    "            print(f\"Cophenet coefficient for {met}-{dist}:\",cop[0])\n",
    "        else:\n",
    "            distance = linkage(X,method=met,metric=\"euclidean\")\n",
    "            cop = cophenet(distance,pdist(X,metric=\"euclidean\"))\n",
    "            print(f\"Cophenet coefficient for {met}-euclidean:\",cop[0])"
   ]
  },
  {
   "cell_type": "code",
   "execution_count": null,
   "id": "37d9454b",
   "metadata": {},
   "outputs": [],
   "source": [
    "for metric in [\"single\",\"average\",\"ward\",\"complete\"]:\n",
    "    distance = linkage(X,method=metric)\n",
    "    plt.figure(figsize=(10,10))\n",
    "    dendrogram(distance)\n",
    "    plt.title(f\"Dendogram Using {metric} method\")"
   ]
  },
  {
   "cell_type": "code",
   "execution_count": null,
   "id": "918e6729",
   "metadata": {},
   "outputs": [],
   "source": [
    "for met in [\"single\",\"average\",\"ward\",\"complete\"]:\n",
    "    for i in [2,3]:\n",
    "        agg = AgglomerativeClustering(n_clusters=i,linkage=met).fit(X)\n",
    "        score = silhouette_score(X,agg.labels_)\n",
    "        print(f\"silhoutte coefficient with {i} cluster for {met} using euclidean distance:\",score)"
   ]
  },
  {
   "cell_type": "markdown",
   "id": "05891951",
   "metadata": {},
   "source": [
    "#### Observations\n",
    "- On using Kmeans clusterings, we observed that when n cluster = 2, we get the highest silhouette score i.e 0.30.\n",
    "- On using Agglomerative clustering, we observed that when n cluster = 2, we get the highest silhouette score i.e 0.25 when using ward method of distance calculation.\n",
    "- We did get better scores in agglomerative using single and average method of distance calculation. However, the clusters were not clearly distinguishable since very few customers were put into 1 cluster.\n",
    "- Also, on using the ward method for calculating dendogramic distances, we observed a good differentiation between data points when n-clusters = 2.\n",
    "\n",
    "**Hence, we choose n-clusters = 2** "
   ]
  },
  {
   "cell_type": "markdown",
   "id": "425c0746",
   "metadata": {},
   "source": [
    "### Visualizing the new clusters"
   ]
  },
  {
   "cell_type": "code",
   "execution_count": null,
   "id": "05d2759a",
   "metadata": {},
   "outputs": [],
   "source": [
    "kmeans = KMeans(n_clusters=2).fit(X)\n",
    "agg = AgglomerativeClustering(n_clusters=2,linkage=\"ward\").fit(X)\n",
    "customers[\"Kmeans_Cluster\"] = kmeans.labels_\n",
    "customers[\"Agg_Cluster\"] = kmeans.labels_\n"
   ]
  },
  {
   "cell_type": "code",
   "execution_count": null,
   "id": "8999dced",
   "metadata": {},
   "outputs": [],
   "source": [
    "customers[\"Kmeans_Cluster\"] = customers.Kmeans_Cluster.apply(lambda x:f\"Cluster {x}\")\n",
    "customers[\"Agg_Cluster\"] = customers.Agg_Cluster.apply(lambda x:f\"Cluster {x}\")"
   ]
  },
  {
   "cell_type": "code",
   "execution_count": null,
   "id": "4f1c2bdf",
   "metadata": {},
   "outputs": [],
   "source": [
    "sns.pairplot(customers,hue=\"Kmeans_Cluster\")"
   ]
  },
  {
   "cell_type": "code",
   "execution_count": null,
   "id": "2067f996",
   "metadata": {},
   "outputs": [],
   "source": [
    "sns.pairplot(customers,hue=\"Agg_Cluster\")\n",
    "plt.show()"
   ]
  },
  {
   "cell_type": "code",
   "execution_count": null,
   "id": "6070d181",
   "metadata": {},
   "outputs": [],
   "source": [
    "customers.drop(\"Agg_Cluster\",axis=1,inplace=True)"
   ]
  },
  {
   "cell_type": "code",
   "execution_count": null,
   "id": "576ae507",
   "metadata": {},
   "outputs": [],
   "source": [
    "customers"
   ]
  },
  {
   "cell_type": "code",
   "execution_count": null,
   "id": "2da43235",
   "metadata": {},
   "outputs": [],
   "source": [
    "plt.figure(figsize=(12,8))\n",
    "for index,i in enumerate(customers.columns[:-1]):\n",
    "    plt.subplot(2,2,index+1)\n",
    "    plt.tight_layout(pad=2,h_pad=2)\n",
    "    plt.title(f\"Cluster 0 vs 1: Distribution of {i}\")\n",
    "    sns.boxplot(y=customers[i],x=customers.Kmeans_Cluster)"
   ]
  },
  {
   "cell_type": "code",
   "execution_count": null,
   "id": "d88a4128",
   "metadata": {},
   "outputs": [],
   "source": [
    "customers[customers.Kmeans_Cluster==\"Cluster 0\"].describe()"
   ]
  },
  {
   "cell_type": "code",
   "execution_count": null,
   "id": "3b063b2f",
   "metadata": {},
   "outputs": [],
   "source": [
    "customers[customers.Kmeans_Cluster==\"Cluster 1\"].describe()"
   ]
  },
  {
   "cell_type": "markdown",
   "id": "299d2bb5",
   "metadata": {},
   "source": [
    "#### Observations - \n",
    "\n",
    "- On visualizing the kmeans and agglomerative clusters formed seperately and comparing, we see no difference in patterns.\n",
    "- Hence, we can use either of the two.\n",
    "- Also, on comparing the RFM features for the 2 different clusters, we find many differences.\n",
    "- Based on medians, the recency value for customers in cluster 0 is 22.5 whereas in cluster 1 its 10.\n",
    "- Based on medians, the frequency value for customers in cluster 0 is 28 whereas in cluster 1 its 35.\n",
    "- Based on medians, the monetary value for customers in cluster 0 is around 12500 whereas in cluster 1 its around 22000.\n",
    "\n",
    "**These observations show that the differences observed by the means of the clusters are good enough to differentiate the customers into 2 groups.**"
   ]
  },
  {
   "cell_type": "code",
   "execution_count": null,
   "id": "08715828",
   "metadata": {},
   "outputs": [],
   "source": [
    "customers.reset_index(inplace=True)"
   ]
  },
  {
   "cell_type": "code",
   "execution_count": null,
   "id": "98c3030e",
   "metadata": {},
   "outputs": [],
   "source": [
    "customer_cluster = customers[[\"CustomerName\",\"Kmeans_Cluster\"]]"
   ]
  },
  {
   "cell_type": "code",
   "execution_count": null,
   "id": "603c259f",
   "metadata": {},
   "outputs": [],
   "source": [
    "data = data.merge(customer_cluster,left_on=\"CustomerName\",right_on=\"CustomerName\")"
   ]
  },
  {
   "cell_type": "code",
   "execution_count": null,
   "id": "ef85726d",
   "metadata": {},
   "outputs": [],
   "source": [
    "data.head()"
   ]
  },
  {
   "cell_type": "markdown",
   "id": "719d4dc3",
   "metadata": {},
   "source": [
    "## Exporting File to Sales Table in MySQL"
   ]
  },
  {
   "cell_type": "code",
   "execution_count": null,
   "id": "2ffc836c",
   "metadata": {},
   "outputs": [],
   "source": [
    "from sqlalchemy import create_engine"
   ]
  },
  {
   "cell_type": "code",
   "execution_count": null,
   "id": "376e5c62",
   "metadata": {},
   "outputs": [],
   "source": [
    "my_conn = create_engine(\"mysql+mysqldb://root:06MYSQLkey@#@localhost/python\")"
   ]
  },
  {
   "cell_type": "code",
   "execution_count": null,
   "id": "d2070795",
   "metadata": {},
   "outputs": [],
   "source": [
    "data.head()"
   ]
  },
  {
   "cell_type": "code",
   "execution_count": null,
   "id": "ff69adb8",
   "metadata": {},
   "outputs": [],
   "source": [
    "data.columns"
   ]
  },
  {
   "cell_type": "code",
   "execution_count": null,
   "id": "8f62652e",
   "metadata": {},
   "outputs": [],
   "source": [
    "data.to_sql(con=my_conn,name=\"sales\",if_exists=\"replace\",index=False)"
   ]
  },
  {
   "cell_type": "code",
   "execution_count": null,
   "id": "c2844807",
   "metadata": {},
   "outputs": [],
   "source": []
  }
 ],
 "metadata": {
  "kernelspec": {
   "display_name": "Global env (Python 3.10)",
   "language": "python",
   "name": "venv"
  },
  "language_info": {
   "codemirror_mode": {
    "name": "ipython",
    "version": 3
   },
   "file_extension": ".py",
   "mimetype": "text/x-python",
   "name": "python",
   "nbconvert_exporter": "python",
   "pygments_lexer": "ipython3",
   "version": "3.10.11"
  }
 },
 "nbformat": 4,
 "nbformat_minor": 5
}
